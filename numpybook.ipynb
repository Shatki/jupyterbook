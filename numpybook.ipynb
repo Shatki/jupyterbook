{
 "cells": [
  {
   "cell_type": "code",
   "execution_count": 2,
   "metadata": {},
   "outputs": [],
   "source": [
    "import numpy as np\n",
    "b = np.arange(-1.0, 1.0, 0.2)"
   ]
  },
  {
   "cell_type": "code",
   "execution_count": 3,
   "metadata": {},
   "outputs": [],
   "source": [
    "a = np.array([[1,2,3], [3,4,5]])"
   ]
  },
  {
   "cell_type": "code",
   "execution_count": 3,
   "metadata": {},
   "outputs": [
    {
     "name": "stdout",
     "output_type": "stream",
     "text": [
      "[ -1.00000000e+00  -8.00000000e-01  -6.00000000e-01  -4.00000000e-01\n",
      "  -2.00000000e-01  -2.22044605e-16   2.00000000e-01   4.00000000e-01\n",
      "   6.00000000e-01   8.00000000e-01]\n"
     ]
    }
   ],
   "source": [
    "print(b)"
   ]
  },
  {
   "cell_type": "code",
   "execution_count": 5,
   "metadata": {},
   "outputs": [
    {
     "name": "stdout",
     "output_type": "stream",
     "text": [
      "[ 0.  0.  0.  0.  0.]\n",
      "[[ 1.  1.  1.]\n",
      " [ 1.  1.  1.]\n",
      " [ 1.  1.  1.]]\n"
     ]
    }
   ],
   "source": [
    "a0 = np.zeros(5)\n",
    "a1 = np.ones((3,3))\n",
    "\n",
    "print(a0)\n",
    "print(a1)"
   ]
  },
  {
   "cell_type": "code",
   "execution_count": 9,
   "metadata": {},
   "outputs": [
    {
     "name": "stdout",
     "output_type": "stream",
     "text": [
      "(array([-1.        , -0.95918367, -0.91836735, -0.87755102, -0.83673469,\n",
      "       -0.79591837, -0.75510204, -0.71428571, -0.67346939, -0.63265306,\n",
      "       -0.59183673, -0.55102041, -0.51020408, -0.46938776, -0.42857143,\n",
      "       -0.3877551 , -0.34693878, -0.30612245, -0.26530612, -0.2244898 ,\n",
      "       -0.18367347, -0.14285714, -0.10204082, -0.06122449, -0.02040816,\n",
      "        0.02040816,  0.06122449,  0.10204082,  0.14285714,  0.18367347,\n",
      "        0.2244898 ,  0.26530612,  0.30612245,  0.34693878,  0.3877551 ,\n",
      "        0.42857143,  0.46938776,  0.51020408,  0.55102041,  0.59183673,\n",
      "        0.63265306,  0.67346939,  0.71428571,  0.75510204,  0.79591837,\n",
      "        0.83673469,  0.87755102,  0.91836735,  0.95918367,  1.        ]), 0.040816326530612242)\n"
     ]
    }
   ],
   "source": [
    "ls = np.linspace(-1.0, 1.0, num=50, retstep=True)\n",
    "print(ls)"
   ]
  },
  {
   "cell_type": "code",
   "execution_count": 11,
   "metadata": {},
   "outputs": [
    {
     "name": "stdout",
     "output_type": "stream",
     "text": [
      "[[ True False False]\n",
      " [False  True False]\n",
      " [False False  True]]\n"
     ]
    }
   ],
   "source": [
    "ff= np.fromfunction(lambda i, j: i==j,(3,3))\n",
    "print(ff)"
   ]
  },
  {
   "cell_type": "code",
   "execution_count": 13,
   "metadata": {},
   "outputs": [
    {
     "name": "stdout",
     "output_type": "stream",
     "text": [
      "False\n"
     ]
    }
   ],
   "source": [
    "# Копирование\n",
    "# 0перации равенства создается ссылка на тот же объект, как в Питоне. Поэтому для клонирования есть специальная функция\n",
    "a = np.zeros((3,3))\n",
    "b = np.copy(a)\n",
    "print(b is a)"
   ]
  },
  {
   "cell_type": "code",
   "execution_count": 16,
   "metadata": {},
   "outputs": [
    {
     "name": "stdout",
     "output_type": "stream",
     "text": [
      "[9 2 3 4 5 6]\n",
      "[[9 2]\n",
      " [3 4]\n",
      " [5 6]]\n"
     ]
    }
   ],
   "source": [
    "# Изменение размерности\n",
    "# reshape изменяет \"форму\" не меняя данные\n",
    "a = np.array([1,2,3,4,5,6])\n",
    "# -1 - размерность для автоматического вычисления\n",
    "b = np.reshape(a, (3,-1))\n",
    "b[0][0] = 9\n",
    "print(a)\n",
    "print(b)"
   ]
  },
  {
   "cell_type": "code",
   "execution_count": 26,
   "metadata": {},
   "outputs": [
    {
     "name": "stdout",
     "output_type": "stream",
     "text": [
      "[[1 2 3]\n",
      " [4 5 6]\n",
      " [7 8 9]\n",
      " [0 0 0]]\n"
     ]
    }
   ],
   "source": [
    "# Объединение массивов\n",
    "a = np.array([[1,2,3],[4,5,6],[7,8,9]])\n",
    "b =  np.array([0, 0, 0])\n",
    "print(np.vstack((a, b)))\n",
    "# для hstack нужны массисы того же размера\n",
    "# print(np.hstack((a, bb)))"
   ]
  },
  {
   "cell_type": "code",
   "execution_count": 32,
   "metadata": {},
   "outputs": [
    {
     "name": "stdout",
     "output_type": "stream",
     "text": [
      "[[ 4.  2.  8.  8.  8.  6.  7.  4.  8.  0.  5.  4.]\n",
      " [ 5.  0.  4.  8.  8.  0.  0.  2.  8.  9.  8.  8.]]\n",
      "[array([[ 4.,  2.,  8.,  8.],\n",
      "       [ 5.,  0.,  4.,  8.]]), array([[ 8.,  6.,  7.,  4.],\n",
      "       [ 8.,  0.,  0.,  2.]]), array([[ 8.,  0.,  5.,  4.],\n",
      "       [ 8.,  9.,  8.,  8.]])]\n",
      "[[ 3.  2.]\n",
      " [ 7.  2.]\n",
      " [ 4.  1.]\n",
      " [ 8.  0.]]\n",
      "[array([[ 3.,  2.],\n",
      "       [ 7.,  2.]]), array([[ 4.,  1.],\n",
      "       [ 8.,  0.]])]\n"
     ]
    }
   ],
   "source": [
    "# разбиение массивов\n",
    "a = np.floor(10*np.random.random((2,12)))\n",
    "print(a)\n",
    "print(np.hsplit(a, 3))\n",
    "\n",
    "b = np.floor(10*np.random.random((4,2)))\n",
    "print(b)\n",
    "print(np.vsplit(b,2))"
   ]
  },
  {
   "cell_type": "code",
   "execution_count": 36,
   "metadata": {},
   "outputs": [
    {
     "name": "stdout",
     "output_type": "stream",
     "text": [
      "[[ 6  8]\n",
      " [10 12]]\n",
      "[[-8 -8]\n",
      " [-8 -8]]\n"
     ]
    }
   ],
   "source": [
    "# арифметические операции\n",
    "a = np.array([[1,2],[3,4]])\n",
    "b = np.array([[5,6],[7,8]])\n",
    "print(a + b)\n",
    "print(2 * (a-b))\n"
   ]
  },
  {
   "cell_type": "code",
   "execution_count": 41,
   "metadata": {},
   "outputs": [
    {
     "name": "stdout",
     "output_type": "stream",
     "text": [
      "[[   1    1    4]\n",
      " [  27  256 3125]]\n"
     ]
    }
   ],
   "source": [
    "# Возведение в Степень\n",
    "a = np.array([[0, 1, 2], [3, 4, 5]])\n",
    "print(np.power(a,a))"
   ]
  },
  {
   "cell_type": "code",
   "execution_count": 42,
   "metadata": {},
   "outputs": [
    {
     "name": "stdout",
     "output_type": "stream",
     "text": [
      "[[19 22]\n",
      " [43 50]]\n"
     ]
    }
   ],
   "source": [
    "# Скалярное умножение матриц\n",
    "a = np.array([[1,2],[3,4]])\n",
    "b = np.array([[5,6],[7,8]])\n",
    "print(np.dot(a, b))"
   ]
  },
  {
   "cell_type": "code",
   "execution_count": 44,
   "metadata": {},
   "outputs": [
    {
     "name": "stdout",
     "output_type": "stream",
     "text": [
      "[ 0  1  4  9 16 25 36 49]\n",
      "[ 4 16]\n"
     ]
    }
   ],
   "source": [
    "# срезы\n",
    "a = np.arange(8)**2  # берем диапазон от 0 до 8(не вкл)  и возводим в квадрат\n",
    "print(a)\n",
    "print(a[2:6:2])"
   ]
  },
  {
   "cell_type": "code",
   "execution_count": 51,
   "metadata": {},
   "outputs": [
    {
     "name": "stdout",
     "output_type": "stream",
     "text": [
      "[[0 1 2 3]\n",
      " [4 5 6 7]]\n",
      "1\n",
      "[2 6]\n",
      "[[1 2]\n",
      " [5 6]]\n"
     ]
    }
   ],
   "source": [
    "# срезы в многомерных массивах\n",
    "# так же используется отрицательная индексация\n",
    "a = np.reshape(np.arange(8),(2,-1))\n",
    "print(a)\n",
    "print(a[0, 1])  # выводим только значение в ячейке [0,1]\n",
    "print(a[:,2])   # выводим только второй столбец\n",
    "print(a[:,1:3]) # выводим срез c 2 по 3 столбец\n"
   ]
  },
  {
   "cell_type": "code",
   "execution_count": 57,
   "metadata": {},
   "outputs": [
    {
     "name": "stdout",
     "output_type": "stream",
     "text": [
      "Element [[ 1  2  3]\n",
      " [10 11 12]]\n",
      "Element [[100 101 102]\n",
      " [111 112 113]]\n"
     ]
    }
   ],
   "source": [
    "# Массив как итератор\n",
    "a = np.array([[[1,2,3],\n",
    "             [10,11,12]],\n",
    "             [[100,101,102],\n",
    "             [111,112,113]]])\n",
    "for row in a:\n",
    "    print(\"Element\", row)"
   ]
  },
  {
   "cell_type": "code",
   "execution_count": 60,
   "metadata": {},
   "outputs": [
    {
     "name": "stdout",
     "output_type": "stream",
     "text": [
      "Element- 1\n",
      "Element- 2\n",
      "Element- 3\n",
      "Element- 10\n",
      "Element- 11\n",
      "Element- 12\n",
      "Element- 100\n",
      "Element- 101\n",
      "Element- 102\n",
      "Element- 111\n",
      "Element- 112\n",
      "Element- 113\n"
     ]
    }
   ],
   "source": [
    "# ravel - преобразование в одномерный массив\n",
    "for i in np.ravel(a):\n",
    "    print('Element-', i)"
   ]
  },
  {
   "cell_type": "code",
   "execution_count": 61,
   "metadata": {},
   "outputs": [
    {
     "name": "stdout",
     "output_type": "stream",
     "text": [
      "[ 0  1  4  9 16 25]\n"
     ]
    }
   ],
   "source": [
    "a = np.arange(6)**2\n",
    "print(a)"
   ]
  },
  {
   "cell_type": "code",
   "execution_count": 65,
   "metadata": {},
   "outputs": [
    {
     "name": "stdout",
     "output_type": "stream",
     "text": [
      "Min element -  1\n",
      "Min axis elem - [1 2]\n",
      "Min axis elem -  [1 3]\n"
     ]
    }
   ],
   "source": [
    "# Функции\n",
    "a = np.array([[1,2],[3,4]])\n",
    "# минимальный элемент\n",
    "print('Min element - ', a.min())\n",
    "# минимальные значения столбцов\n",
    "print('Min row axis elem  -', a.min(axis=0))\n",
    "# минимальные значения строк\n",
    "print('Min line axis elem - ', a.min(axis=1))"
   ]
  },
  {
   "cell_type": "code",
   "execution_count": 68,
   "metadata": {},
   "outputs": [
    {
     "name": "stdout",
     "output_type": "stream",
     "text": [
      "sum all elements: - 10\n",
      "max row axis elem -  [1 2]\n",
      "max line axis elem -  [2 4]\n"
     ]
    }
   ],
   "source": [
    "print('sum all elements: -', a.sum())\n",
    "print('max row axis elem - ', a.min(axis=0))\n",
    "print('max line axis elem - ', a.max(axis=1))"
   ]
  },
  {
   "cell_type": "code",
   "execution_count": 69,
   "metadata": {},
   "outputs": [
    {
     "name": "stdout",
     "output_type": "stream",
     "text": [
      "sum row axis -  [4 6]\n",
      "sum line axis -  [3 7]\n"
     ]
    }
   ],
   "source": [
    "print('sum row axis - ', a.sum(axis=0))\n",
    "print('sum line axis - ', a.sum(axis=1))"
   ]
  },
  {
   "cell_type": "code",
   "execution_count": 71,
   "metadata": {},
   "outputs": [
    {
     "name": "stdout",
     "output_type": "stream",
     "text": [
      "average value all -  2.5\n",
      "average value row axis -  [ 2.  3.]\n",
      "average value line axis -  [ 1.5  3.5]\n"
     ]
    }
   ],
   "source": [
    "# mean   среднее значение\n",
    "print('average value all - ', a.mean())\n",
    "print('average value row axis - ', a.mean(axis=0))\n",
    "print('average value line axis - ', a.mean(axis=1))"
   ]
  },
  {
   "cell_type": "code",
   "execution_count": 73,
   "metadata": {},
   "outputs": [],
   "source": [
    "# Чтение из файла\n",
    "res = np.loadtxt('file1.txt', delimiter = \" \")\n"
   ]
  },
  {
   "cell_type": "code",
   "execution_count": 74,
   "metadata": {},
   "outputs": [
    {
     "name": "stdout",
     "output_type": "stream",
     "text": [
      "[[  1.  23.   5.]\n",
      " [  2.  65.   6.]\n",
      " [  4.  55.   4.]]\n"
     ]
    }
   ],
   "source": [
    "print(res)"
   ]
  },
  {
   "cell_type": "code",
   "execution_count": 76,
   "metadata": {},
   "outputs": [
    {
     "name": "stdout",
     "output_type": "stream",
     "text": [
      "[[ 23.   5.]\n",
      " [ 65.   6.]\n",
      " [ 55.   4.]]\n"
     ]
    }
   ],
   "source": [
    "# Использование колонок с индексами 1 и 2\n",
    "res2 = np.loadtxt('file1.txt', usecols = (1, 2))\n",
    "print(res2)"
   ]
  },
  {
   "cell_type": "code",
   "execution_count": 77,
   "metadata": {},
   "outputs": [
    {
     "name": "stdout",
     "output_type": "stream",
     "text": [
      "[  4.  55.   4.]\n"
     ]
    }
   ],
   "source": [
    "# Прочитаем файл пропуская первые две строки\n",
    "res = np.loadtxt('file1.txt', skiprows = 2)\n",
    "print(res)"
   ]
  },
  {
   "cell_type": "code",
   "execution_count": 79,
   "metadata": {
    "collapsed": true
   },
   "outputs": [],
   "source": [
    "# Запись в файл\n",
    "x = np.linspace(0, np.pi, 5).reshape((5, 1))\n",
    "table = np.hstack((x, np.sin(x)))\n",
    "np.savetxt('sinus.txt', table, fmt='%7.4f')"
   ]
  },
  {
   "cell_type": "code",
   "execution_count": null,
   "metadata": {
    "collapsed": true
   },
   "outputs": [],
   "source": []
  }
 ],
 "metadata": {
  "kernelspec": {
   "display_name": "Python 3",
   "language": "python",
   "name": "python3"
  },
  "language_info": {
   "codemirror_mode": {
    "name": "ipython",
    "version": 3
   },
   "file_extension": ".py",
   "mimetype": "text/x-python",
   "name": "python",
   "nbconvert_exporter": "python",
   "pygments_lexer": "ipython3",
   "version": "3.6.3"
  }
 },
 "nbformat": 4,
 "nbformat_minor": 2
}
